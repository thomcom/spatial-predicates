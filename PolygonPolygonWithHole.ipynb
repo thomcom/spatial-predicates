{
 "cells": [
  {
   "cell_type": "code",
   "execution_count": 5,
   "id": "87348700-b5f2-482a-9ea9-e80d1b98679c",
   "metadata": {
    "tags": []
   },
   "outputs": [],
   "source": [
    "import cuspatial\n",
    "import geopandas as gpd\n",
    "from shapely.geometry import *\n",
    "import itertools\n",
    "import numpy as np\n",
    "import copy"
   ]
  },
  {
   "cell_type": "code",
   "execution_count": 6,
   "id": "6ba89512-05ad-4878-b49a-2258d6634fb9",
   "metadata": {
    "tags": []
   },
   "outputs": [],
   "source": [
    "\"\"\"Renders a simply polygonal drawing of two Shapely Objects\"\"\"\n",
    "def polygon_feature_collection(lhs, rhs, rhs_type):\n",
    "    return GeometryCollection([lhs, rhs_type(rhs)])"
   ]
  },
  {
   "cell_type": "code",
   "execution_count": 27,
   "id": "b8e0d9ad-a483-4d9d-96ec-58ba38fd013c",
   "metadata": {
    "tags": []
   },
   "outputs": [],
   "source": [
    "\"\"\"The main polygon. A second polygon will be drawn in all of\n",
    "the relationships to the main polygon.\n",
    "\"\"\"\n",
    "square_polygon = Polygon(\n",
    "    ((0, 0), (0, 1), (1, 1), (1, 0)),\n",
    "    [((0.35, 0.35), (0.35, 0.65), (0.65, 0.65), (0.65, 0.35))]\n",
    ")"
   ]
  },
  {
   "cell_type": "code",
   "execution_count": 28,
   "id": "833c9243-b121-4383-8e1e-92603d907558",
   "metadata": {
    "tags": []
   },
   "outputs": [],
   "source": [
    "\"\"\"A manually crafted set of points that demonstrates the 8 most\n",
    "obvious (to me) polygon-polygon relationships.\n",
    "\"\"\"\n",
    "polygon_rhs = (\n",
    "    (\"point-point-out\", [(0.0, 1.0), (1.0, 1.0), (0.0, 1.5)]),\n",
    "    (\"point-point-point\", [(1.0, 0.0), (0.0, 1.0), (1.0, 1.0)]),\n",
    "    (\"in-edge-point\", [(0.5, 0.5), (0.5, 1.0), (1.0, 1.0)]),\n",
    "    (\"out-out-point\", [(0.5, -0.25), (0.5, 1.25), (1.0, 1.0)]),\n",
    "    (\"in-in-point\", [(0.5, 0.25), (0.5, 0.75), (1.0, 1.0)]),\n",
    "    (\"edge-out-point\", [(0.5, 1.0), (0.5, 1.25), (1.0, 1.0)]),\n",
    "    (\"in-out-point\", [(0.5, 0.5), (0.5, 1.25), (1.0, 1.0)]),\n",
    "    (\"in-point-point\", [(0.5, 0.5), (0.0, 1.0), (1.0, 1.0)]),\n",
    ")"
   ]
  },
  {
   "cell_type": "code",
   "execution_count": 29,
   "id": "878b9fda-dd47-4e46-affc-dbcc5e4fdaf9",
   "metadata": {
    "tags": []
   },
   "outputs": [
    {
     "name": "stdout",
     "output_type": "stream",
     "text": [
      "point-point-out\n"
     ]
    },
    {
     "data": {
      "image/svg+xml": [
       "<svg xmlns=\"http://www.w3.org/2000/svg\" xmlns:xlink=\"http://www.w3.org/1999/xlink\" width=\"100.0\" height=\"100.0\" viewBox=\"-0.06 -0.06 1.12 1.62\" preserveAspectRatio=\"xMinYMin meet\"><g transform=\"matrix(1,0,0,-1,0,1.5)\"><g><path fill-rule=\"evenodd\" fill=\"#66cc99\" stroke=\"#555555\" stroke-width=\"0.032400000000000005\" opacity=\"0.6\" d=\"M 0.0,0.0 L 0.0,1.0 L 1.0,1.0 L 1.0,0.0 L 0.0,0.0 z M 0.35,0.35 L 0.35,0.65 L 0.65,0.65 L 0.65,0.35 L 0.35,0.35 z\" /><path fill-rule=\"evenodd\" fill=\"#66cc99\" stroke=\"#555555\" stroke-width=\"0.032400000000000005\" opacity=\"0.6\" d=\"M 0.0,1.0 L 1.0,1.0 L 0.0,1.5 L 0.0,1.0 z\" /></g></g></svg>"
      ],
      "text/plain": [
       "<GEOMETRYCOLLECTION (POLYGON ((0 0, 0 1, 1 1, 1 0, 0 0), (0.35 0.35, 0.35 0....>"
      ]
     },
     "metadata": {},
     "output_type": "display_data"
    },
    {
     "name": "stdout",
     "output_type": "stream",
     "text": [
      "point-point-point\n"
     ]
    },
    {
     "data": {
      "image/svg+xml": [
       "<svg xmlns=\"http://www.w3.org/2000/svg\" xmlns:xlink=\"http://www.w3.org/1999/xlink\" width=\"100.0\" height=\"100.0\" viewBox=\"-0.04 -0.04 1.08 1.08\" preserveAspectRatio=\"xMinYMin meet\"><g transform=\"matrix(1,0,0,-1,0,1.0)\"><g><path fill-rule=\"evenodd\" fill=\"#66cc99\" stroke=\"#555555\" stroke-width=\"0.0216\" opacity=\"0.6\" d=\"M 0.0,0.0 L 0.0,1.0 L 1.0,1.0 L 1.0,0.0 L 0.0,0.0 z M 0.35,0.35 L 0.35,0.65 L 0.65,0.65 L 0.65,0.35 L 0.35,0.35 z\" /><path fill-rule=\"evenodd\" fill=\"#66cc99\" stroke=\"#555555\" stroke-width=\"0.0216\" opacity=\"0.6\" d=\"M 1.0,0.0 L 0.0,1.0 L 1.0,1.0 L 1.0,0.0 z\" /></g></g></svg>"
      ],
      "text/plain": [
       "<GEOMETRYCOLLECTION (POLYGON ((0 0, 0 1, 1 1, 1 0, 0 0), (0.35 0.35, 0.35 0....>"
      ]
     },
     "metadata": {},
     "output_type": "display_data"
    },
    {
     "name": "stdout",
     "output_type": "stream",
     "text": [
      "in-edge-point\n"
     ]
    },
    {
     "data": {
      "image/svg+xml": [
       "<svg xmlns=\"http://www.w3.org/2000/svg\" xmlns:xlink=\"http://www.w3.org/1999/xlink\" width=\"100.0\" height=\"100.0\" viewBox=\"-0.04 -0.04 1.08 1.08\" preserveAspectRatio=\"xMinYMin meet\"><g transform=\"matrix(1,0,0,-1,0,1.0)\"><g><path fill-rule=\"evenodd\" fill=\"#66cc99\" stroke=\"#555555\" stroke-width=\"0.0216\" opacity=\"0.6\" d=\"M 0.0,0.0 L 0.0,1.0 L 1.0,1.0 L 1.0,0.0 L 0.0,0.0 z M 0.35,0.35 L 0.35,0.65 L 0.65,0.65 L 0.65,0.35 L 0.35,0.35 z\" /><path fill-rule=\"evenodd\" fill=\"#66cc99\" stroke=\"#555555\" stroke-width=\"0.0216\" opacity=\"0.6\" d=\"M 0.5,0.5 L 0.5,1.0 L 1.0,1.0 L 0.5,0.5 z\" /></g></g></svg>"
      ],
      "text/plain": [
       "<GEOMETRYCOLLECTION (POLYGON ((0 0, 0 1, 1 1, 1 0, 0 0), (0.35 0.35, 0.35 0....>"
      ]
     },
     "metadata": {},
     "output_type": "display_data"
    },
    {
     "name": "stdout",
     "output_type": "stream",
     "text": [
      "out-out-point\n"
     ]
    },
    {
     "data": {
      "image/svg+xml": [
       "<svg xmlns=\"http://www.w3.org/2000/svg\" xmlns:xlink=\"http://www.w3.org/1999/xlink\" width=\"100.0\" height=\"100.0\" viewBox=\"-0.06 -0.31 1.12 1.62\" preserveAspectRatio=\"xMinYMin meet\"><g transform=\"matrix(1,0,0,-1,0,1.0)\"><g><path fill-rule=\"evenodd\" fill=\"#66cc99\" stroke=\"#555555\" stroke-width=\"0.032400000000000005\" opacity=\"0.6\" d=\"M 0.0,0.0 L 0.0,1.0 L 1.0,1.0 L 1.0,0.0 L 0.0,0.0 z M 0.35,0.35 L 0.35,0.65 L 0.65,0.65 L 0.65,0.35 L 0.35,0.35 z\" /><path fill-rule=\"evenodd\" fill=\"#66cc99\" stroke=\"#555555\" stroke-width=\"0.032400000000000005\" opacity=\"0.6\" d=\"M 0.5,-0.25 L 0.5,1.25 L 1.0,1.0 L 0.5,-0.25 z\" /></g></g></svg>"
      ],
      "text/plain": [
       "<GEOMETRYCOLLECTION (POLYGON ((0 0, 0 1, 1 1, 1 0, 0 0), (0.35 0.35, 0.35 0....>"
      ]
     },
     "metadata": {},
     "output_type": "display_data"
    },
    {
     "name": "stdout",
     "output_type": "stream",
     "text": [
      "in-in-point\n"
     ]
    },
    {
     "data": {
      "image/svg+xml": [
       "<svg xmlns=\"http://www.w3.org/2000/svg\" xmlns:xlink=\"http://www.w3.org/1999/xlink\" width=\"100.0\" height=\"100.0\" viewBox=\"-0.04 -0.04 1.08 1.08\" preserveAspectRatio=\"xMinYMin meet\"><g transform=\"matrix(1,0,0,-1,0,1.0)\"><g><path fill-rule=\"evenodd\" fill=\"#66cc99\" stroke=\"#555555\" stroke-width=\"0.0216\" opacity=\"0.6\" d=\"M 0.0,0.0 L 0.0,1.0 L 1.0,1.0 L 1.0,0.0 L 0.0,0.0 z M 0.35,0.35 L 0.35,0.65 L 0.65,0.65 L 0.65,0.35 L 0.35,0.35 z\" /><path fill-rule=\"evenodd\" fill=\"#66cc99\" stroke=\"#555555\" stroke-width=\"0.0216\" opacity=\"0.6\" d=\"M 0.5,0.25 L 0.5,0.75 L 1.0,1.0 L 0.5,0.25 z\" /></g></g></svg>"
      ],
      "text/plain": [
       "<GEOMETRYCOLLECTION (POLYGON ((0 0, 0 1, 1 1, 1 0, 0 0), (0.35 0.35, 0.35 0....>"
      ]
     },
     "metadata": {},
     "output_type": "display_data"
    },
    {
     "name": "stdout",
     "output_type": "stream",
     "text": [
      "edge-out-point\n"
     ]
    },
    {
     "data": {
      "image/svg+xml": [
       "<svg xmlns=\"http://www.w3.org/2000/svg\" xmlns:xlink=\"http://www.w3.org/1999/xlink\" width=\"100.0\" height=\"100.0\" viewBox=\"-0.05 -0.05 1.1 1.35\" preserveAspectRatio=\"xMinYMin meet\"><g transform=\"matrix(1,0,0,-1,0,1.25)\"><g><path fill-rule=\"evenodd\" fill=\"#66cc99\" stroke=\"#555555\" stroke-width=\"0.027000000000000003\" opacity=\"0.6\" d=\"M 0.0,0.0 L 0.0,1.0 L 1.0,1.0 L 1.0,0.0 L 0.0,0.0 z M 0.35,0.35 L 0.35,0.65 L 0.65,0.65 L 0.65,0.35 L 0.35,0.35 z\" /><path fill-rule=\"evenodd\" fill=\"#66cc99\" stroke=\"#555555\" stroke-width=\"0.027000000000000003\" opacity=\"0.6\" d=\"M 0.5,1.0 L 0.5,1.25 L 1.0,1.0 L 0.5,1.0 z\" /></g></g></svg>"
      ],
      "text/plain": [
       "<GEOMETRYCOLLECTION (POLYGON ((0 0, 0 1, 1 1, 1 0, 0 0), (0.35 0.35, 0.35 0....>"
      ]
     },
     "metadata": {},
     "output_type": "display_data"
    },
    {
     "name": "stdout",
     "output_type": "stream",
     "text": [
      "in-out-point\n"
     ]
    },
    {
     "data": {
      "image/svg+xml": [
       "<svg xmlns=\"http://www.w3.org/2000/svg\" xmlns:xlink=\"http://www.w3.org/1999/xlink\" width=\"100.0\" height=\"100.0\" viewBox=\"-0.05 -0.05 1.1 1.35\" preserveAspectRatio=\"xMinYMin meet\"><g transform=\"matrix(1,0,0,-1,0,1.25)\"><g><path fill-rule=\"evenodd\" fill=\"#66cc99\" stroke=\"#555555\" stroke-width=\"0.027000000000000003\" opacity=\"0.6\" d=\"M 0.0,0.0 L 0.0,1.0 L 1.0,1.0 L 1.0,0.0 L 0.0,0.0 z M 0.35,0.35 L 0.35,0.65 L 0.65,0.65 L 0.65,0.35 L 0.35,0.35 z\" /><path fill-rule=\"evenodd\" fill=\"#66cc99\" stroke=\"#555555\" stroke-width=\"0.027000000000000003\" opacity=\"0.6\" d=\"M 0.5,0.5 L 0.5,1.25 L 1.0,1.0 L 0.5,0.5 z\" /></g></g></svg>"
      ],
      "text/plain": [
       "<GEOMETRYCOLLECTION (POLYGON ((0 0, 0 1, 1 1, 1 0, 0 0), (0.35 0.35, 0.35 0....>"
      ]
     },
     "metadata": {},
     "output_type": "display_data"
    },
    {
     "name": "stdout",
     "output_type": "stream",
     "text": [
      "in-point-point\n"
     ]
    },
    {
     "data": {
      "image/svg+xml": [
       "<svg xmlns=\"http://www.w3.org/2000/svg\" xmlns:xlink=\"http://www.w3.org/1999/xlink\" width=\"100.0\" height=\"100.0\" viewBox=\"-0.04 -0.04 1.08 1.08\" preserveAspectRatio=\"xMinYMin meet\"><g transform=\"matrix(1,0,0,-1,0,1.0)\"><g><path fill-rule=\"evenodd\" fill=\"#66cc99\" stroke=\"#555555\" stroke-width=\"0.0216\" opacity=\"0.6\" d=\"M 0.0,0.0 L 0.0,1.0 L 1.0,1.0 L 1.0,0.0 L 0.0,0.0 z M 0.35,0.35 L 0.35,0.65 L 0.65,0.65 L 0.65,0.35 L 0.35,0.35 z\" /><path fill-rule=\"evenodd\" fill=\"#66cc99\" stroke=\"#555555\" stroke-width=\"0.0216\" opacity=\"0.6\" d=\"M 0.5,0.5 L 0.0,1.0 L 1.0,1.0 L 0.5,0.5 z\" /></g></g></svg>"
      ],
      "text/plain": [
       "<GEOMETRYCOLLECTION (POLYGON ((0 0, 0 1, 1 1, 1 0, 0 0), (0.35 0.35, 0.35 0....>"
      ]
     },
     "metadata": {},
     "output_type": "display_data"
    }
   ],
   "source": [
    "\"\"\"See drawings of the 8 relationships.\"\"\"\n",
    "for name, value in polygon_rhs:\n",
    "    print(name)\n",
    "    display(polygon_feature_collection(square_polygon, value, Polygon))"
   ]
  },
  {
   "cell_type": "code",
   "execution_count": 63,
   "id": "083ca705-2c41-452f-960a-f1920d8640bb",
   "metadata": {
    "tags": []
   },
   "outputs": [],
   "source": [
    "\"\"\"Now do it for every possible point position combination\n",
    "of interior, exterior, edge, and point polygons.\n",
    "\n",
    "This is performed by creating a simple triangle with\n",
    "points that all satisfy one of the above conditions. The\n",
    "cartesian product of point positions is built and then\n",
    "points are popped from their respective triangles based\n",
    "on which points are defined by the cartesian product.\n",
    "\n",
    "inner: A triangle with 3 points inside of the inner ring,\n",
    "       outside of the main polygon.\n",
    "inner-point: A triangle that shares 3 points with the inner\n",
    "             ring.\n",
    "inner-edge: A triangle that is colinear and intersects with\n",
    "            the edges of the inner ring.\n",
    "in: A triangle with 3 points inside the main polygon\n",
    "out: A triangle with 3 points each outside the main polygon\n",
    "edge: A triangle with 3 points that are all located on the\n",
    "      edge of the main polygon.\n",
    "point: A triangle with 3 points that are the exact same\n",
    "       points as the main polygon.\n",
    "       \n",
    "This test uses Shapely's `relate` function to create a\n",
    "hash of the relationship that each pair of polygons has to\n",
    "one another, then renders the polygon if that is the first\n",
    "time we've seen that relationship.\n",
    "\"\"\"\n",
    "points = {\n",
    "    \"inner\": [(0.5, 0.5), (0.55, 0.55), (0.55, 0.45)],\n",
    "    \"inner-point\": [(0.35, 0.35), (0.35, 0.65), (0.65, 0.65)],\n",
    "    \"inner-edge\": [(0.5, 0.65), (0.35, 0.5), (0.5, 0.35)],\n",
    "    \"in\": [(0.75, 0.75), (0.75, 0.25), (0.25, 0.75)],\n",
    "    \"out\": [(0.5, 1.25), (0.5, -0.25), (0.0, -0.25)],\n",
    "    \"edge\": [(1.0, 0.5), (0.5, 0.0), (0.5, 1.0)],\n",
    "    \"point\": [(1.0, 1.0), (1.0, 0.0), (0.0, 0.0)]\n",
    "}\n",
    "def get_points(triple):\n",
    "    points_copy = copy.deepcopy(points)\n",
    "    p1 = points_copy[triple[0][0]].pop()\n",
    "    p2 = points_copy[triple[0][1]].pop()\n",
    "    p3 = points_copy[triple[0][2]].pop()\n",
    "    return [p1, p2, p3]\n",
    "\n",
    "positions_triple = itertools.product(points, points, points)"
   ]
  },
  {
   "cell_type": "code",
   "execution_count": 64,
   "id": "b147f356-5dec-4ec0-a4c4-907e636f9d9a",
   "metadata": {
    "tags": []
   },
   "outputs": [
    {
     "name": "stdout",
     "output_type": "stream",
     "text": [
      "(('inner', 'inner', 'inner'),)\n"
     ]
    },
    {
     "data": {
      "image/svg+xml": [
       "<svg xmlns=\"http://www.w3.org/2000/svg\" xmlns:xlink=\"http://www.w3.org/1999/xlink\" width=\"100.0\" height=\"100.0\" viewBox=\"-0.04 -0.04 1.08 1.08\" preserveAspectRatio=\"xMinYMin meet\"><g transform=\"matrix(1,0,0,-1,0,1.0)\"><g><path fill-rule=\"evenodd\" fill=\"#66cc99\" stroke=\"#555555\" stroke-width=\"0.0216\" opacity=\"0.6\" d=\"M 0.0,0.0 L 0.0,1.0 L 1.0,1.0 L 1.0,0.0 L 0.0,0.0 z M 0.35,0.35 L 0.35,0.65 L 0.65,0.65 L 0.65,0.35 L 0.35,0.35 z\" /><path fill-rule=\"evenodd\" fill=\"#66cc99\" stroke=\"#555555\" stroke-width=\"0.0216\" opacity=\"0.6\" d=\"M 0.55,0.45 L 0.55,0.55 L 0.5,0.5 L 0.55,0.45 z\" /></g></g></svg>"
      ],
      "text/plain": [
       "<GEOMETRYCOLLECTION (POLYGON ((0 0, 0 1, 1 1, 1 0, 0 0), (0.35 0.35, 0.35 0....>"
      ]
     },
     "metadata": {},
     "output_type": "display_data"
    },
    {
     "name": "stdout",
     "output_type": "stream",
     "text": [
      "(('inner', 'inner', 'inner-point'),)\n"
     ]
    },
    {
     "data": {
      "image/svg+xml": [
       "<svg xmlns=\"http://www.w3.org/2000/svg\" xmlns:xlink=\"http://www.w3.org/1999/xlink\" width=\"100.0\" height=\"100.0\" viewBox=\"-0.04 -0.04 1.08 1.08\" preserveAspectRatio=\"xMinYMin meet\"><g transform=\"matrix(1,0,0,-1,0,1.0)\"><g><path fill-rule=\"evenodd\" fill=\"#66cc99\" stroke=\"#555555\" stroke-width=\"0.0216\" opacity=\"0.6\" d=\"M 0.0,0.0 L 0.0,1.0 L 1.0,1.0 L 1.0,0.0 L 0.0,0.0 z M 0.35,0.35 L 0.35,0.65 L 0.65,0.65 L 0.65,0.35 L 0.35,0.35 z\" /><path fill-rule=\"evenodd\" fill=\"#66cc99\" stroke=\"#555555\" stroke-width=\"0.0216\" opacity=\"0.6\" d=\"M 0.55,0.45 L 0.55,0.55 L 0.65,0.65 L 0.55,0.45 z\" /></g></g></svg>"
      ],
      "text/plain": [
       "<GEOMETRYCOLLECTION (POLYGON ((0 0, 0 1, 1 1, 1 0, 0 0), (0.35 0.35, 0.35 0....>"
      ]
     },
     "metadata": {},
     "output_type": "display_data"
    },
    {
     "name": "stdout",
     "output_type": "stream",
     "text": [
      "(('inner', 'inner', 'inner-edge'),)\n",
      "(('inner', 'inner', 'in'),)\n"
     ]
    },
    {
     "data": {
      "image/svg+xml": [
       "<svg xmlns=\"http://www.w3.org/2000/svg\" xmlns:xlink=\"http://www.w3.org/1999/xlink\" width=\"100.0\" height=\"100.0\" viewBox=\"-0.04 -0.04 1.08 1.08\" preserveAspectRatio=\"xMinYMin meet\"><g transform=\"matrix(1,0,0,-1,0,1.0)\"><g><path fill-rule=\"evenodd\" fill=\"#66cc99\" stroke=\"#555555\" stroke-width=\"0.0216\" opacity=\"0.6\" d=\"M 0.0,0.0 L 0.0,1.0 L 1.0,1.0 L 1.0,0.0 L 0.0,0.0 z M 0.35,0.35 L 0.35,0.65 L 0.65,0.65 L 0.65,0.35 L 0.35,0.35 z\" /><path fill-rule=\"evenodd\" fill=\"#66cc99\" stroke=\"#555555\" stroke-width=\"0.0216\" opacity=\"0.6\" d=\"M 0.55,0.45 L 0.55,0.55 L 0.25,0.75 L 0.55,0.45 z\" /></g></g></svg>"
      ],
      "text/plain": [
       "<GEOMETRYCOLLECTION (POLYGON ((0 0, 0 1, 1 1, 1 0, 0 0), (0.35 0.35, 0.35 0....>"
      ]
     },
     "metadata": {},
     "output_type": "display_data"
    },
    {
     "name": "stdout",
     "output_type": "stream",
     "text": [
      "(('inner', 'inner', 'out'),)\n",
      "(('inner', 'inner', 'edge'),)\n",
      "(('inner', 'inner', 'point'),)\n",
      "(('inner', 'inner-point', 'inner'),)\n",
      "(('inner', 'inner-point', 'inner-point'),)\n"
     ]
    },
    {
     "data": {
      "image/svg+xml": [
       "<svg xmlns=\"http://www.w3.org/2000/svg\" xmlns:xlink=\"http://www.w3.org/1999/xlink\" width=\"100.0\" height=\"100.0\" viewBox=\"-0.04 -0.04 1.08 1.08\" preserveAspectRatio=\"xMinYMin meet\"><g transform=\"matrix(1,0,0,-1,0,1.0)\"><g><path fill-rule=\"evenodd\" fill=\"#66cc99\" stroke=\"#555555\" stroke-width=\"0.0216\" opacity=\"0.6\" d=\"M 0.0,0.0 L 0.0,1.0 L 1.0,1.0 L 1.0,0.0 L 0.0,0.0 z M 0.35,0.35 L 0.35,0.65 L 0.65,0.65 L 0.65,0.35 L 0.35,0.35 z\" /><path fill-rule=\"evenodd\" fill=\"#66cc99\" stroke=\"#555555\" stroke-width=\"0.0216\" opacity=\"0.6\" d=\"M 0.55,0.45 L 0.65,0.65 L 0.35,0.65 L 0.55,0.45 z\" /></g></g></svg>"
      ],
      "text/plain": [
       "<GEOMETRYCOLLECTION (POLYGON ((0 0, 0 1, 1 1, 1 0, 0 0), (0.35 0.35, 0.35 0....>"
      ]
     },
     "metadata": {},
     "output_type": "display_data"
    },
    {
     "name": "stdout",
     "output_type": "stream",
     "text": [
      "(('inner', 'inner-point', 'inner-edge'),)\n",
      "(('inner', 'inner-point', 'in'),)\n",
      "(('inner', 'inner-point', 'out'),)\n",
      "(('inner', 'inner-point', 'edge'),)\n",
      "(('inner', 'inner-point', 'point'),)\n",
      "(('inner', 'inner-edge', 'inner'),)\n",
      "(('inner', 'inner-edge', 'inner-point'),)\n",
      "(('inner', 'inner-edge', 'inner-edge'),)\n",
      "(('inner', 'inner-edge', 'in'),)\n",
      "(('inner', 'inner-edge', 'out'),)\n",
      "(('inner', 'inner-edge', 'edge'),)\n",
      "(('inner', 'inner-edge', 'point'),)\n",
      "(('inner', 'in', 'inner'),)\n",
      "(('inner', 'in', 'inner-point'),)\n",
      "(('inner', 'in', 'inner-edge'),)\n",
      "(('inner', 'in', 'in'),)\n",
      "(('inner', 'in', 'out'),)\n",
      "(('inner', 'in', 'edge'),)\n",
      "(('inner', 'in', 'point'),)\n",
      "(('inner', 'out', 'inner'),)\n",
      "(('inner', 'out', 'inner-point'),)\n",
      "(('inner', 'out', 'inner-edge'),)\n",
      "(('inner', 'out', 'in'),)\n",
      "(('inner', 'out', 'out'),)\n",
      "(('inner', 'out', 'edge'),)\n",
      "(('inner', 'out', 'point'),)\n",
      "(('inner', 'edge', 'inner'),)\n",
      "(('inner', 'edge', 'inner-point'),)\n",
      "(('inner', 'edge', 'inner-edge'),)\n",
      "(('inner', 'edge', 'in'),)\n",
      "(('inner', 'edge', 'out'),)\n",
      "(('inner', 'edge', 'edge'),)\n",
      "(('inner', 'edge', 'point'),)\n",
      "(('inner', 'point', 'inner'),)\n",
      "(('inner', 'point', 'inner-point'),)\n",
      "(('inner', 'point', 'inner-edge'),)\n",
      "(('inner', 'point', 'in'),)\n",
      "(('inner', 'point', 'out'),)\n",
      "(('inner', 'point', 'edge'),)\n",
      "(('inner', 'point', 'point'),)\n"
     ]
    },
    {
     "data": {
      "image/svg+xml": [
       "<svg xmlns=\"http://www.w3.org/2000/svg\" xmlns:xlink=\"http://www.w3.org/1999/xlink\" width=\"100.0\" height=\"100.0\" viewBox=\"-0.04 -0.04 1.08 1.08\" preserveAspectRatio=\"xMinYMin meet\"><g transform=\"matrix(1,0,0,-1,0,1.0)\"><g><path fill-rule=\"evenodd\" fill=\"#66cc99\" stroke=\"#555555\" stroke-width=\"0.0216\" opacity=\"0.6\" d=\"M 0.0,0.0 L 0.0,1.0 L 1.0,1.0 L 1.0,0.0 L 0.0,0.0 z M 0.35,0.35 L 0.35,0.65 L 0.65,0.65 L 0.65,0.35 L 0.35,0.35 z\" /><path fill-rule=\"evenodd\" fill=\"#66cc99\" stroke=\"#555555\" stroke-width=\"0.0216\" opacity=\"0.6\" d=\"M 0.55,0.45 L 0.0,0.0 L 1.0,0.0 L 0.55,0.45 z\" /></g></g></svg>"
      ],
      "text/plain": [
       "<GEOMETRYCOLLECTION (POLYGON ((0 0, 0 1, 1 1, 1 0, 0 0), (0.35 0.35, 0.35 0....>"
      ]
     },
     "metadata": {},
     "output_type": "display_data"
    },
    {
     "name": "stdout",
     "output_type": "stream",
     "text": [
      "(('inner-point', 'inner', 'inner'),)\n",
      "(('inner-point', 'inner', 'inner-point'),)\n",
      "(('inner-point', 'inner', 'inner-edge'),)\n",
      "(('inner-point', 'inner', 'in'),)\n",
      "(('inner-point', 'inner', 'out'),)\n",
      "(('inner-point', 'inner', 'edge'),)\n",
      "(('inner-point', 'inner', 'point'),)\n",
      "(('inner-point', 'inner-point', 'inner'),)\n",
      "(('inner-point', 'inner-point', 'inner-point'),)\n",
      "(('inner-point', 'inner-point', 'inner-edge'),)\n",
      "(('inner-point', 'inner-point', 'in'),)\n"
     ]
    },
    {
     "data": {
      "image/svg+xml": [
       "<svg xmlns=\"http://www.w3.org/2000/svg\" xmlns:xlink=\"http://www.w3.org/1999/xlink\" width=\"100.0\" height=\"100.0\" viewBox=\"-0.04 -0.04 1.08 1.08\" preserveAspectRatio=\"xMinYMin meet\"><g transform=\"matrix(1,0,0,-1,0,1.0)\"><g><path fill-rule=\"evenodd\" fill=\"#66cc99\" stroke=\"#555555\" stroke-width=\"0.0216\" opacity=\"0.6\" d=\"M 0.0,0.0 L 0.0,1.0 L 1.0,1.0 L 1.0,0.0 L 0.0,0.0 z M 0.35,0.35 L 0.35,0.65 L 0.65,0.65 L 0.65,0.35 L 0.35,0.35 z\" /><path fill-rule=\"evenodd\" fill=\"#66cc99\" stroke=\"#555555\" stroke-width=\"0.0216\" opacity=\"0.6\" d=\"M 0.65,0.65 L 0.35,0.65 L 0.25,0.75 L 0.65,0.65 z\" /></g></g></svg>"
      ],
      "text/plain": [
       "<GEOMETRYCOLLECTION (POLYGON ((0 0, 0 1, 1 1, 1 0, 0 0), (0.35 0.35, 0.35 0....>"
      ]
     },
     "metadata": {},
     "output_type": "display_data"
    },
    {
     "name": "stdout",
     "output_type": "stream",
     "text": [
      "(('inner-point', 'inner-point', 'out'),)\n",
      "(('inner-point', 'inner-point', 'edge'),)\n",
      "(('inner-point', 'inner-point', 'point'),)\n",
      "(('inner-point', 'inner-edge', 'inner'),)\n",
      "(('inner-point', 'inner-edge', 'inner-point'),)\n",
      "(('inner-point', 'inner-edge', 'inner-edge'),)\n",
      "(('inner-point', 'inner-edge', 'in'),)\n",
      "(('inner-point', 'inner-edge', 'out'),)\n",
      "(('inner-point', 'inner-edge', 'edge'),)\n",
      "(('inner-point', 'inner-edge', 'point'),)\n",
      "(('inner-point', 'in', 'inner'),)\n",
      "(('inner-point', 'in', 'inner-point'),)\n",
      "(('inner-point', 'in', 'inner-edge'),)\n",
      "(('inner-point', 'in', 'in'),)\n",
      "(('inner-point', 'in', 'out'),)\n",
      "(('inner-point', 'in', 'edge'),)\n"
     ]
    },
    {
     "data": {
      "image/svg+xml": [
       "<svg xmlns=\"http://www.w3.org/2000/svg\" xmlns:xlink=\"http://www.w3.org/1999/xlink\" width=\"100.0\" height=\"100.0\" viewBox=\"-0.04 -0.04 1.08 1.08\" preserveAspectRatio=\"xMinYMin meet\"><g transform=\"matrix(1,0,0,-1,0,1.0)\"><g><path fill-rule=\"evenodd\" fill=\"#66cc99\" stroke=\"#555555\" stroke-width=\"0.0216\" opacity=\"0.6\" d=\"M 0.0,0.0 L 0.0,1.0 L 1.0,1.0 L 1.0,0.0 L 0.0,0.0 z M 0.35,0.35 L 0.35,0.65 L 0.65,0.65 L 0.65,0.35 L 0.35,0.35 z\" /><path fill-rule=\"evenodd\" fill=\"#66cc99\" stroke=\"#555555\" stroke-width=\"0.0216\" opacity=\"0.6\" d=\"M 0.65,0.65 L 0.25,0.75 L 0.5,1.0 L 0.65,0.65 z\" /></g></g></svg>"
      ],
      "text/plain": [
       "<GEOMETRYCOLLECTION (POLYGON ((0 0, 0 1, 1 1, 1 0, 0 0), (0.35 0.35, 0.35 0....>"
      ]
     },
     "metadata": {},
     "output_type": "display_data"
    },
    {
     "name": "stdout",
     "output_type": "stream",
     "text": [
      "(('inner-point', 'in', 'point'),)\n",
      "(('inner-point', 'out', 'inner'),)\n",
      "(('inner-point', 'out', 'inner-point'),)\n",
      "(('inner-point', 'out', 'inner-edge'),)\n",
      "(('inner-point', 'out', 'in'),)\n",
      "(('inner-point', 'out', 'out'),)\n",
      "(('inner-point', 'out', 'edge'),)\n",
      "(('inner-point', 'out', 'point'),)\n",
      "(('inner-point', 'edge', 'inner'),)\n",
      "(('inner-point', 'edge', 'inner-point'),)\n",
      "(('inner-point', 'edge', 'inner-edge'),)\n",
      "(('inner-point', 'edge', 'in'),)\n",
      "(('inner-point', 'edge', 'out'),)\n",
      "(('inner-point', 'edge', 'edge'),)\n",
      "(('inner-point', 'edge', 'point'),)\n",
      "(('inner-point', 'point', 'inner'),)\n",
      "(('inner-point', 'point', 'inner-point'),)\n",
      "(('inner-point', 'point', 'inner-edge'),)\n",
      "(('inner-point', 'point', 'in'),)\n",
      "(('inner-point', 'point', 'out'),)\n",
      "(('inner-point', 'point', 'edge'),)\n",
      "(('inner-point', 'point', 'point'),)\n",
      "(('inner-edge', 'inner', 'inner'),)\n",
      "(('inner-edge', 'inner', 'inner-point'),)\n",
      "(('inner-edge', 'inner', 'inner-edge'),)\n",
      "(('inner-edge', 'inner', 'in'),)\n",
      "(('inner-edge', 'inner', 'out'),)\n",
      "(('inner-edge', 'inner', 'edge'),)\n",
      "(('inner-edge', 'inner', 'point'),)\n",
      "(('inner-edge', 'inner-point', 'inner'),)\n",
      "(('inner-edge', 'inner-point', 'inner-point'),)\n",
      "(('inner-edge', 'inner-point', 'inner-edge'),)\n",
      "(('inner-edge', 'inner-point', 'in'),)\n",
      "(('inner-edge', 'inner-point', 'out'),)\n",
      "(('inner-edge', 'inner-point', 'edge'),)\n",
      "(('inner-edge', 'inner-point', 'point'),)\n",
      "(('inner-edge', 'inner-edge', 'inner'),)\n",
      "(('inner-edge', 'inner-edge', 'inner-point'),)\n",
      "(('inner-edge', 'inner-edge', 'inner-edge'),)\n",
      "(('inner-edge', 'inner-edge', 'in'),)\n",
      "(('inner-edge', 'inner-edge', 'out'),)\n",
      "(('inner-edge', 'inner-edge', 'edge'),)\n",
      "(('inner-edge', 'inner-edge', 'point'),)\n",
      "(('inner-edge', 'in', 'inner'),)\n",
      "(('inner-edge', 'in', 'inner-point'),)\n",
      "(('inner-edge', 'in', 'inner-edge'),)\n",
      "(('inner-edge', 'in', 'in'),)\n",
      "(('inner-edge', 'in', 'out'),)\n",
      "(('inner-edge', 'in', 'edge'),)\n",
      "(('inner-edge', 'in', 'point'),)\n",
      "(('inner-edge', 'out', 'inner'),)\n",
      "(('inner-edge', 'out', 'inner-point'),)\n",
      "(('inner-edge', 'out', 'inner-edge'),)\n",
      "(('inner-edge', 'out', 'in'),)\n",
      "(('inner-edge', 'out', 'out'),)\n",
      "(('inner-edge', 'out', 'edge'),)\n",
      "(('inner-edge', 'out', 'point'),)\n",
      "(('inner-edge', 'edge', 'inner'),)\n",
      "(('inner-edge', 'edge', 'inner-point'),)\n",
      "(('inner-edge', 'edge', 'inner-edge'),)\n",
      "(('inner-edge', 'edge', 'in'),)\n",
      "(('inner-edge', 'edge', 'out'),)\n",
      "(('inner-edge', 'edge', 'edge'),)\n",
      "(('inner-edge', 'edge', 'point'),)\n",
      "(('inner-edge', 'point', 'inner'),)\n",
      "(('inner-edge', 'point', 'inner-point'),)\n",
      "(('inner-edge', 'point', 'inner-edge'),)\n",
      "(('inner-edge', 'point', 'in'),)\n",
      "(('inner-edge', 'point', 'out'),)\n",
      "(('inner-edge', 'point', 'edge'),)\n",
      "(('inner-edge', 'point', 'point'),)\n",
      "(('in', 'inner', 'inner'),)\n",
      "(('in', 'inner', 'inner-point'),)\n",
      "(('in', 'inner', 'inner-edge'),)\n",
      "(('in', 'inner', 'in'),)\n",
      "(('in', 'inner', 'out'),)\n",
      "(('in', 'inner', 'edge'),)\n",
      "(('in', 'inner', 'point'),)\n",
      "(('in', 'inner-point', 'inner'),)\n",
      "(('in', 'inner-point', 'inner-point'),)\n",
      "(('in', 'inner-point', 'inner-edge'),)\n",
      "(('in', 'inner-point', 'in'),)\n",
      "(('in', 'inner-point', 'out'),)\n",
      "(('in', 'inner-point', 'edge'),)\n",
      "(('in', 'inner-point', 'point'),)\n",
      "(('in', 'inner-edge', 'inner'),)\n",
      "(('in', 'inner-edge', 'inner-point'),)\n",
      "(('in', 'inner-edge', 'inner-edge'),)\n",
      "(('in', 'inner-edge', 'in'),)\n",
      "(('in', 'inner-edge', 'out'),)\n",
      "(('in', 'inner-edge', 'edge'),)\n",
      "(('in', 'inner-edge', 'point'),)\n",
      "(('in', 'in', 'inner'),)\n",
      "(('in', 'in', 'inner-point'),)\n",
      "(('in', 'in', 'inner-edge'),)\n",
      "(('in', 'in', 'in'),)\n",
      "(('in', 'in', 'out'),)\n",
      "(('in', 'in', 'edge'),)\n",
      "(('in', 'in', 'point'),)\n",
      "(('in', 'out', 'inner'),)\n",
      "(('in', 'out', 'inner-point'),)\n",
      "(('in', 'out', 'inner-edge'),)\n",
      "(('in', 'out', 'in'),)\n",
      "(('in', 'out', 'out'),)\n",
      "(('in', 'out', 'edge'),)\n",
      "(('in', 'out', 'point'),)\n",
      "(('in', 'edge', 'inner'),)\n",
      "(('in', 'edge', 'inner-point'),)\n",
      "(('in', 'edge', 'inner-edge'),)\n",
      "(('in', 'edge', 'in'),)\n",
      "(('in', 'edge', 'out'),)\n",
      "(('in', 'edge', 'edge'),)\n",
      "(('in', 'edge', 'point'),)\n",
      "(('in', 'point', 'inner'),)\n",
      "(('in', 'point', 'inner-point'),)\n",
      "(('in', 'point', 'inner-edge'),)\n",
      "(('in', 'point', 'in'),)\n",
      "(('in', 'point', 'out'),)\n",
      "(('in', 'point', 'edge'),)\n",
      "(('in', 'point', 'point'),)\n",
      "(('out', 'inner', 'inner'),)\n",
      "(('out', 'inner', 'inner-point'),)\n",
      "(('out', 'inner', 'inner-edge'),)\n",
      "(('out', 'inner', 'in'),)\n",
      "(('out', 'inner', 'out'),)\n",
      "(('out', 'inner', 'edge'),)\n",
      "(('out', 'inner', 'point'),)\n",
      "(('out', 'inner-point', 'inner'),)\n",
      "(('out', 'inner-point', 'inner-point'),)\n",
      "(('out', 'inner-point', 'inner-edge'),)\n",
      "(('out', 'inner-point', 'in'),)\n",
      "(('out', 'inner-point', 'out'),)\n",
      "(('out', 'inner-point', 'edge'),)\n",
      "(('out', 'inner-point', 'point'),)\n",
      "(('out', 'inner-edge', 'inner'),)\n",
      "(('out', 'inner-edge', 'inner-point'),)\n",
      "(('out', 'inner-edge', 'inner-edge'),)\n",
      "(('out', 'inner-edge', 'in'),)\n",
      "(('out', 'inner-edge', 'out'),)\n",
      "(('out', 'inner-edge', 'edge'),)\n",
      "(('out', 'inner-edge', 'point'),)\n",
      "(('out', 'in', 'inner'),)\n",
      "(('out', 'in', 'inner-point'),)\n",
      "(('out', 'in', 'inner-edge'),)\n",
      "(('out', 'in', 'in'),)\n",
      "(('out', 'in', 'out'),)\n",
      "(('out', 'in', 'edge'),)\n",
      "(('out', 'in', 'point'),)\n",
      "(('out', 'out', 'inner'),)\n",
      "(('out', 'out', 'inner-point'),)\n",
      "(('out', 'out', 'inner-edge'),)\n",
      "(('out', 'out', 'in'),)\n",
      "(('out', 'out', 'out'),)\n",
      "(('out', 'out', 'edge'),)\n",
      "(('out', 'out', 'point'),)\n",
      "(('out', 'edge', 'inner'),)\n",
      "(('out', 'edge', 'inner-point'),)\n",
      "(('out', 'edge', 'inner-edge'),)\n",
      "(('out', 'edge', 'in'),)\n",
      "(('out', 'edge', 'out'),)\n",
      "(('out', 'edge', 'edge'),)\n",
      "(('out', 'edge', 'point'),)\n",
      "(('out', 'point', 'inner'),)\n",
      "(('out', 'point', 'inner-point'),)\n",
      "(('out', 'point', 'inner-edge'),)\n",
      "(('out', 'point', 'in'),)\n",
      "(('out', 'point', 'out'),)\n",
      "(('out', 'point', 'edge'),)\n",
      "(('out', 'point', 'point'),)\n",
      "(('edge', 'inner', 'inner'),)\n",
      "(('edge', 'inner', 'inner-point'),)\n",
      "(('edge', 'inner', 'inner-edge'),)\n",
      "(('edge', 'inner', 'in'),)\n",
      "(('edge', 'inner', 'out'),)\n",
      "(('edge', 'inner', 'edge'),)\n",
      "(('edge', 'inner', 'point'),)\n",
      "(('edge', 'inner-point', 'inner'),)\n",
      "(('edge', 'inner-point', 'inner-point'),)\n",
      "(('edge', 'inner-point', 'inner-edge'),)\n",
      "(('edge', 'inner-point', 'in'),)\n",
      "(('edge', 'inner-point', 'out'),)\n",
      "(('edge', 'inner-point', 'edge'),)\n",
      "(('edge', 'inner-point', 'point'),)\n",
      "(('edge', 'inner-edge', 'inner'),)\n",
      "(('edge', 'inner-edge', 'inner-point'),)\n",
      "(('edge', 'inner-edge', 'inner-edge'),)\n",
      "(('edge', 'inner-edge', 'in'),)\n",
      "(('edge', 'inner-edge', 'out'),)\n",
      "(('edge', 'inner-edge', 'edge'),)\n",
      "(('edge', 'inner-edge', 'point'),)\n",
      "(('edge', 'in', 'inner'),)\n",
      "(('edge', 'in', 'inner-point'),)\n",
      "(('edge', 'in', 'inner-edge'),)\n",
      "(('edge', 'in', 'in'),)\n",
      "(('edge', 'in', 'out'),)\n",
      "(('edge', 'in', 'edge'),)\n",
      "(('edge', 'in', 'point'),)\n",
      "(('edge', 'out', 'inner'),)\n",
      "(('edge', 'out', 'inner-point'),)\n",
      "(('edge', 'out', 'inner-edge'),)\n",
      "(('edge', 'out', 'in'),)\n",
      "(('edge', 'out', 'out'),)\n",
      "(('edge', 'out', 'edge'),)\n",
      "(('edge', 'out', 'point'),)\n",
      "(('edge', 'edge', 'inner'),)\n",
      "(('edge', 'edge', 'inner-point'),)\n",
      "(('edge', 'edge', 'inner-edge'),)\n",
      "(('edge', 'edge', 'in'),)\n",
      "(('edge', 'edge', 'out'),)\n",
      "(('edge', 'edge', 'edge'),)\n",
      "(('edge', 'edge', 'point'),)\n",
      "(('edge', 'point', 'inner'),)\n",
      "(('edge', 'point', 'inner-point'),)\n",
      "(('edge', 'point', 'inner-edge'),)\n",
      "(('edge', 'point', 'in'),)\n",
      "(('edge', 'point', 'out'),)\n",
      "(('edge', 'point', 'edge'),)\n",
      "(('edge', 'point', 'point'),)\n"
     ]
    },
    {
     "data": {
      "image/svg+xml": [
       "<svg xmlns=\"http://www.w3.org/2000/svg\" xmlns:xlink=\"http://www.w3.org/1999/xlink\" width=\"100.0\" height=\"100.0\" viewBox=\"-0.04 -0.04 1.08 1.08\" preserveAspectRatio=\"xMinYMin meet\"><g transform=\"matrix(1,0,0,-1,0,1.0)\"><g><path fill-rule=\"evenodd\" fill=\"#66cc99\" stroke=\"#555555\" stroke-width=\"0.0216\" opacity=\"0.6\" d=\"M 0.0,0.0 L 0.0,1.0 L 1.0,1.0 L 1.0,0.0 L 0.0,0.0 z M 0.35,0.35 L 0.35,0.65 L 0.65,0.65 L 0.65,0.35 L 0.35,0.35 z\" /><path fill-rule=\"evenodd\" fill=\"#66cc99\" stroke=\"#555555\" stroke-width=\"0.0216\" opacity=\"0.6\" d=\"M 0.5,1.0 L 0.0,0.0 L 1.0,0.0 L 0.5,1.0 z\" /></g></g></svg>"
      ],
      "text/plain": [
       "<GEOMETRYCOLLECTION (POLYGON ((0 0, 0 1, 1 1, 1 0, 0 0), (0.35 0.35, 0.35 0....>"
      ]
     },
     "metadata": {},
     "output_type": "display_data"
    },
    {
     "name": "stdout",
     "output_type": "stream",
     "text": [
      "(('point', 'inner', 'inner'),)\n",
      "(('point', 'inner', 'inner-point'),)\n",
      "(('point', 'inner', 'inner-edge'),)\n",
      "(('point', 'inner', 'in'),)\n",
      "(('point', 'inner', 'out'),)\n",
      "(('point', 'inner', 'edge'),)\n",
      "(('point', 'inner', 'point'),)\n",
      "(('point', 'inner-point', 'inner'),)\n",
      "(('point', 'inner-point', 'inner-point'),)\n",
      "(('point', 'inner-point', 'inner-edge'),)\n",
      "(('point', 'inner-point', 'in'),)\n",
      "(('point', 'inner-point', 'out'),)\n",
      "(('point', 'inner-point', 'edge'),)\n",
      "(('point', 'inner-point', 'point'),)\n",
      "(('point', 'inner-edge', 'inner'),)\n",
      "(('point', 'inner-edge', 'inner-point'),)\n",
      "(('point', 'inner-edge', 'inner-edge'),)\n",
      "(('point', 'inner-edge', 'in'),)\n",
      "(('point', 'inner-edge', 'out'),)\n",
      "(('point', 'inner-edge', 'edge'),)\n",
      "(('point', 'inner-edge', 'point'),)\n",
      "(('point', 'in', 'inner'),)\n",
      "(('point', 'in', 'inner-point'),)\n",
      "(('point', 'in', 'inner-edge'),)\n",
      "(('point', 'in', 'in'),)\n",
      "(('point', 'in', 'out'),)\n",
      "(('point', 'in', 'edge'),)\n",
      "(('point', 'in', 'point'),)\n",
      "(('point', 'out', 'inner'),)\n",
      "(('point', 'out', 'inner-point'),)\n",
      "(('point', 'out', 'inner-edge'),)\n",
      "(('point', 'out', 'in'),)\n",
      "(('point', 'out', 'out'),)\n",
      "(('point', 'out', 'edge'),)\n",
      "(('point', 'out', 'point'),)\n",
      "(('point', 'edge', 'inner'),)\n",
      "(('point', 'edge', 'inner-point'),)\n",
      "(('point', 'edge', 'inner-edge'),)\n",
      "(('point', 'edge', 'in'),)\n",
      "(('point', 'edge', 'out'),)\n",
      "(('point', 'edge', 'edge'),)\n",
      "(('point', 'edge', 'point'),)\n",
      "(('point', 'point', 'inner'),)\n",
      "(('point', 'point', 'inner-point'),)\n",
      "(('point', 'point', 'inner-edge'),)\n",
      "(('point', 'point', 'in'),)\n",
      "(('point', 'point', 'out'),)\n",
      "(('point', 'point', 'edge'),)\n",
      "(('point', 'point', 'point'),)\n"
     ]
    }
   ],
   "source": [
    "\"\"\"Render all possible polygon shape relations.\"\"\"\n",
    "relate_hash = {}\n",
    "for triple in zip(positions_triple):\n",
    "    array = get_points(triple)\n",
    "    features = polygon_feature_collection(\n",
    "        square_polygon,\n",
    "        array,\n",
    "        Polygon\n",
    "    )\n",
    "    relate = square_polygon.relate(Polygon(array))\n",
    "    result = relate_hash.get(relate, [])\n",
    "    print(triple)\n",
    "    if len(result) == 0:\n",
    "        display(features)\n",
    "        relate_hash[relate] = [triple]\n",
    "    else:\n",
    "        relate_hash[relate].append(triple)"
   ]
  },
  {
   "cell_type": "code",
   "execution_count": null,
   "id": "410f500d-f681-405a-8030-693cd6b8d5e5",
   "metadata": {},
   "outputs": [],
   "source": []
  },
  {
   "cell_type": "code",
   "execution_count": null,
   "id": "389a55a1-92d2-4182-a275-cd0c14afe531",
   "metadata": {},
   "outputs": [],
   "source": []
  },
  {
   "cell_type": "code",
   "execution_count": null,
   "id": "6681beb3-cae3-44be-8f7d-67a58cdf5301",
   "metadata": {},
   "outputs": [],
   "source": []
  }
 ],
 "metadata": {
  "kernelspec": {
   "display_name": "Python 3 (ipykernel)",
   "language": "python",
   "name": "python3"
  },
  "language_info": {
   "codemirror_mode": {
    "name": "ipython",
    "version": 3
   },
   "file_extension": ".py",
   "mimetype": "text/x-python",
   "name": "python",
   "nbconvert_exporter": "python",
   "pygments_lexer": "ipython3",
   "version": "3.10.10"
  }
 },
 "nbformat": 4,
 "nbformat_minor": 5
}
