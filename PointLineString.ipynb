{
 "cells": [
  {
   "cell_type": "code",
   "execution_count": 2,
   "id": "87348700-b5f2-482a-9ea9-e80d1b98679c",
   "metadata": {
    "tags": []
   },
   "outputs": [],
   "source": [
    "import cuspatial\n",
    "import geopandas as gpd\n",
    "from shapely.geometry import *"
   ]
  },
  {
   "cell_type": "code",
   "execution_count": 3,
   "id": "b8e0d9ad-a483-4d9d-96ec-58ba38fd013c",
   "metadata": {
    "tags": []
   },
   "outputs": [],
   "source": [
    "square_polygon = LineString([(0, 1), (1, 1)])"
   ]
  },
  {
   "cell_type": "code",
   "execution_count": 9,
   "id": "83474eed-e05a-4865-85ec-b76ff2faa269",
   "metadata": {
    "tags": []
   },
   "outputs": [],
   "source": [
    "points_rhs = [(0.5, 1.0), (0.5, 1.5), (0, 1)]"
   ]
  },
  {
   "cell_type": "code",
   "execution_count": 10,
   "id": "afec8458-9369-4519-b913-5e6651f595ec",
   "metadata": {
    "tags": []
   },
   "outputs": [
    {
     "data": {
      "image/svg+xml": [
       "<svg xmlns=\"http://www.w3.org/2000/svg\" xmlns:xlink=\"http://www.w3.org/1999/xlink\" width=\"100.0\" height=\"100.0\" viewBox=\"-0.04 0.96 1.08 0.08000000000000007\" preserveAspectRatio=\"xMinYMin meet\"><g transform=\"matrix(1,0,0,-1,0,2.0)\"><g><polyline fill=\"none\" stroke=\"#66cc99\" stroke-width=\"0.0216\" points=\"0.0,1.0 1.0,1.0\" opacity=\"0.8\" /><circle cx=\"0.5\" cy=\"1.0\" r=\"0.0324\" stroke=\"#555555\" stroke-width=\"0.0108\" fill=\"#66cc99\" opacity=\"0.6\" /></g></g></svg>"
      ],
      "text/plain": [
       "<GEOMETRYCOLLECTION (LINESTRING (0 1, 1 1), POINT (0.5 1))>"
      ]
     },
     "execution_count": 10,
     "metadata": {},
     "output_type": "execute_result"
    }
   ],
   "source": [
    "GeometryCollection([square_polygon, Point(points_rhs[0])])"
   ]
  },
  {
   "cell_type": "code",
   "execution_count": 11,
   "id": "878b9fda-dd47-4e46-affc-dbcc5e4fdaf9",
   "metadata": {
    "tags": []
   },
   "outputs": [
    {
     "data": {
      "image/svg+xml": [
       "<svg xmlns=\"http://www.w3.org/2000/svg\" xmlns:xlink=\"http://www.w3.org/1999/xlink\" width=\"100.0\" height=\"100.0\" viewBox=\"-0.04 0.96 1.08 0.5800000000000001\" preserveAspectRatio=\"xMinYMin meet\"><g transform=\"matrix(1,0,0,-1,0,2.5)\"><g><polyline fill=\"none\" stroke=\"#66cc99\" stroke-width=\"0.0216\" points=\"0.0,1.0 1.0,1.0\" opacity=\"0.8\" /><circle cx=\"0.5\" cy=\"1.5\" r=\"0.0324\" stroke=\"#555555\" stroke-width=\"0.0108\" fill=\"#66cc99\" opacity=\"0.6\" /></g></g></svg>"
      ],
      "text/plain": [
       "<GEOMETRYCOLLECTION (LINESTRING (0 1, 1 1), POINT (0.5 1.5))>"
      ]
     },
     "execution_count": 11,
     "metadata": {},
     "output_type": "execute_result"
    }
   ],
   "source": [
    "GeometryCollection([square_polygon, Point(points_rhs[1])])"
   ]
  },
  {
   "cell_type": "code",
   "execution_count": 12,
   "id": "5ca0916c-895f-4a13-8589-a2821f982d7a",
   "metadata": {
    "tags": []
   },
   "outputs": [
    {
     "data": {
      "image/svg+xml": [
       "<svg xmlns=\"http://www.w3.org/2000/svg\" xmlns:xlink=\"http://www.w3.org/1999/xlink\" width=\"100.0\" height=\"100.0\" viewBox=\"-0.04 0.96 1.08 0.08000000000000007\" preserveAspectRatio=\"xMinYMin meet\"><g transform=\"matrix(1,0,0,-1,0,2.0)\"><g><polyline fill=\"none\" stroke=\"#66cc99\" stroke-width=\"0.0216\" points=\"0.0,1.0 1.0,1.0\" opacity=\"0.8\" /><circle cx=\"0.0\" cy=\"1.0\" r=\"0.0324\" stroke=\"#555555\" stroke-width=\"0.0108\" fill=\"#66cc99\" opacity=\"0.6\" /></g></g></svg>"
      ],
      "text/plain": [
       "<GEOMETRYCOLLECTION (LINESTRING (0 1, 1 1), POINT (0 1))>"
      ]
     },
     "execution_count": 12,
     "metadata": {},
     "output_type": "execute_result"
    }
   ],
   "source": [
    "GeometryCollection([square_polygon, Point(points_rhs[2])])"
   ]
  }
 ],
 "metadata": {
  "kernelspec": {
   "display_name": "Python 3 (ipykernel)",
   "language": "python",
   "name": "python3"
  },
  "language_info": {
   "codemirror_mode": {
    "name": "ipython",
    "version": 3
   },
   "file_extension": ".py",
   "mimetype": "text/x-python",
   "name": "python",
   "nbconvert_exporter": "python",
   "pygments_lexer": "ipython3",
   "version": "3.10.10"
  }
 },
 "nbformat": 4,
 "nbformat_minor": 5
}
